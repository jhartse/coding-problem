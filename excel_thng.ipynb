{
 "cells": [
  {
   "cell_type": "code",
   "execution_count": 122,
   "id": "7d7c81fa-c299-44ca-9e7d-83fa61806d8b",
   "metadata": {},
   "outputs": [],
   "source": [
    "alpha_dict = [\"a\",\"b\",\"c\",\"d\",\"e\",\"f\",\"g\",\"h\",'i','j','k','l','m','n','o','p','q','r','s','t','u','v','w','x','y','z']\n",
    "def excel_func(s):\n",
    "    s_prime = s\n",
    "    \n",
    "    alphabet_str = []\n",
    "    while (s_prime//26)!=0:\n",
    "        #print(s_prime//26,s_prime%26 )\n",
    "        if s_prime//26 ==1 and s_prime%26 ==0:\n",
    "            #print(\"here\")\n",
    "            break\n",
    "        elif s_prime%26==0:\n",
    "            #print(\"it happened\")\n",
    "            alphabet_str.insert(0,int(s_prime%26))\n",
    "            s_prime = s_prime//26-1\n",
    "        else:\n",
    "            alphabet_str.insert(0,int(s_prime%26))\n",
    "            s_prime = s_prime//26\n",
    "        \n",
    "    #print(s_prime)\n",
    "    alphabet_str.insert(0,int(s_prime%26))\n",
    "   \n",
    "\n",
    "    string = \"\"\n",
    "    ind = 0\n",
    "    for x in alphabet_str:\n",
    "        string = string+str(alpha_dict[int(x-1)])\n",
    "    return string\n",
    "\n"
   ]
  },
  {
   "cell_type": "code",
   "execution_count": 123,
   "id": "cbb0c704-e023-4ec6-a9c2-8b9bd81a0d4a",
   "metadata": {},
   "outputs": [
    {
     "data": {
      "text/plain": [
       "'zzz'"
      ]
     },
     "execution_count": 123,
     "metadata": {},
     "output_type": "execute_result"
    }
   ],
   "source": [
    "#the integer that requires adding a new letter to the string is 26**(n)+26**(n-1)+ ... + 1\n",
    "#a-z -> 1-26\n",
    "#aa-zz -> 27 - 26**2+26\n",
    "#etc\n",
    "excel_func(26**3+26**2+26)"
   ]
  },
  {
   "cell_type": "code",
   "execution_count": 124,
   "id": "1496bc7d-42da-4f49-9cab-f85dfa12d8ec",
   "metadata": {
    "tags": []
   },
   "outputs": [
    {
     "name": "stdout",
     "output_type": "stream",
     "text": [
      "18252 zyz\n",
      "18253 zza\n",
      "18254 zzb\n",
      "18255 zzc\n",
      "18256 zzd\n",
      "18257 zze\n",
      "18258 zzf\n",
      "18259 zzg\n",
      "18260 zzh\n",
      "18261 zzi\n",
      "18262 zzj\n",
      "18263 zzk\n",
      "18264 zzl\n",
      "18265 zzm\n",
      "18266 zzn\n",
      "18267 zzo\n",
      "18268 zzp\n",
      "18269 zzq\n",
      "18270 zzr\n",
      "18271 zzs\n",
      "18272 zzt\n",
      "18273 zzu\n",
      "18274 zzv\n",
      "18275 zzw\n",
      "18276 zzx\n",
      "18277 zzy\n",
      "18278 zzz\n",
      "18279 aaaa\n"
     ]
    }
   ],
   "source": [
    "for a in range(26**3+26**2,26**3+26**2+26+2):\n",
    "    print(a,excel_func(a))"
   ]
  },
  {
   "cell_type": "code",
   "execution_count": null,
   "id": "d487c059-4f0d-473d-8922-be599a127c7a",
   "metadata": {},
   "outputs": [],
   "source": []
  }
 ],
 "metadata": {
  "kernelspec": {
   "display_name": "Python 3 (ipykernel)",
   "language": "python",
   "name": "python3"
  },
  "language_info": {
   "codemirror_mode": {
    "name": "ipython",
    "version": 3
   },
   "file_extension": ".py",
   "mimetype": "text/x-python",
   "name": "python",
   "nbconvert_exporter": "python",
   "pygments_lexer": "ipython3",
   "version": "3.10.9"
  }
 },
 "nbformat": 4,
 "nbformat_minor": 5
}
